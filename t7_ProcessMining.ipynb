{
 "cells": [
  {
   "cell_type": "markdown",
   "metadata": {},
   "source": [
    "# Process Mining"
   ]
  },
  {
   "cell_type": "markdown",
   "metadata": {},
   "source": [
    "In questo file si trasforma la sequenza di transazioni generata con i task precedenti, in particolare nel task 5, in un file .xes o .sv in modo da poteli visualizzare come processi in Apromore."
   ]
  },
  {
   "cell_type": "code",
   "execution_count": null,
   "metadata": {},
   "outputs": [],
   "source": [
    "import nbimporter\n",
    "from t1_ETLBasics import calories_to_df,sleep_to_df,exercise_to_df\n",
    "from t3_TSToEvents import calories_to_events, sleep_to_events,exercise_to_events\n",
    "from t4_FeatureRedaction import calories_kmeans, sleep_kmeans, exercise_kmeans\n",
    "from t5_MakeTransactions import get_cal_transaction, get_sleep_transaction, get_exercise_transaction, get_master_transaction\n",
    "from t6_SequenceMining import get_trans,get_list_m_transaction\n",
    "PATH = '../../pmdata/'"
   ]
  },
  {
   "cell_type": "code",
   "execution_count": null,
   "metadata": {},
   "outputs": [],
   "source": [
    "cal_transaction = get_cal_transaction(calories_kmeans(calories_to_events(calories_to_df(PATH,[1])),4))\n",
    "sleep_transaction = get_sleep_transaction(sleep_kmeans(sleep_to_events(sleep_to_df(PATH,[1])),4))\n",
    "ex_transaction = get_exercise_transaction(exercise_kmeans(exercise_to_events(exercise_to_df(PATH,[1])),4))"
   ]
  },
  {
   "cell_type": "code",
   "execution_count": null,
   "metadata": {},
   "outputs": [],
   "source": [
    "def sorted_sequence(df):\n",
    "    \"\"\"Funzione che ordina per timestamp le sequenze\"\"\"\n",
    "    for i in range(len(df)):\n",
    "        df[i].sort(key = lambda x: x[0] )"
   ]
  },
  {
   "cell_type": "code",
   "execution_count": null,
   "metadata": {},
   "outputs": [],
   "source": [
    "sorted_sequence(cal_transaction)\n",
    "sorted_sequence(sleep_transaction)\n",
    "sorted_sequence(ex_transaction)"
   ]
  },
  {
   "cell_type": "code",
   "execution_count": null,
   "metadata": {},
   "outputs": [],
   "source": [
    "m_trans = get_master_transaction(cal_transaction,ex_transaction,sleep_transaction)"
   ]
  },
  {
   "cell_type": "code",
   "execution_count": null,
   "metadata": {},
   "outputs": [],
   "source": [
    "main_transaction = get_list_m_transaction(m_trans)"
   ]
  },
  {
   "cell_type": "code",
   "execution_count": null,
   "metadata": {},
   "outputs": [],
   "source": [
    "main_transaction"
   ]
  },
  {
   "cell_type": "code",
   "execution_count": null,
   "metadata": {},
   "outputs": [],
   "source": [
    "flat_transactions = [ item for elem in main_transaction for item in elem]"
   ]
  },
  {
   "cell_type": "code",
   "execution_count": null,
   "metadata": {},
   "outputs": [],
   "source": [
    "\n",
    "flat_transactions"
   ]
  },
  {
   "cell_type": "code",
   "execution_count": null,
   "metadata": {},
   "outputs": [],
   "source": [
    "from xml.etree.ElementTree import Element, SubElement, Comment, tostring, ElementTree\n",
    "from xml.dom import minidom\n",
    "from datetime import *\n",
    "def time_string(date):\n",
    "    return date.strftime(\"%Y-%m-%d, %H:%M:%S\")\n",
    "\n",
    "def prettify(elem):\n",
    "    \"\"\"Return a pretty-printed XML string for the Element.\n",
    "    \"\"\"\n",
    "    rough_string = tostring(elem, 'utf-8')\n",
    "    reparsed = minidom.parseString(rough_string)\n",
    "    return reparsed.toprettyxml(indent=\"  \")"
   ]
  },
  {
   "cell_type": "code",
   "execution_count": null,
   "metadata": {},
   "outputs": [],
   "source": [
    "root = Element(\"log\", {'xes.version':\"2.0\", 'xes.features':\"nested-attributes\", 'openxes.version':\"2.27\"})\n",
    "root"
   ]
  },
  {
   "cell_type": "code",
   "execution_count": null,
   "metadata": {},
   "outputs": [],
   "source": [
    "def current_tree():\n",
    "    print(prettify(root))\n",
    "current_tree() \n"
   ]
  },
  {
   "cell_type": "code",
   "execution_count": null,
   "metadata": {},
   "outputs": [],
   "source": [
    "SubElement(root, \"extension\", name=\"Lifecycle\", prefix=\"lifecycle\", uri=\"http://www.xes-standard.org/lifecycle.xesext\" )"
   ]
  },
  {
   "cell_type": "code",
   "execution_count": null,
   "metadata": {},
   "outputs": [],
   "source": [
    "SubElement(root, \"extension\", name=\"Organizational\", prefix=\"org\", uri=\"http://www.xes-standard.org/org.xesext\" )\n",
    "SubElement(root, \"extension\", name=\"Time\", prefix=\"time\", uri=\"http://www.xes-standard.org/time.xesext\" )\n",
    "SubElement(root, \"extension\", name=\"Concept\", prefix=\"concept\", uri=\"http://www.xes-standard.org/concept.xesext\" )\n",
    "SubElement(root, \"extension\", name=\"Cost\", prefix=\"cost\", uri=\"http://www.xes-standard.org/cost.xesext\" )"
   ]
  },
  {
   "cell_type": "code",
   "execution_count": null,
   "metadata": {},
   "outputs": [],
   "source": [
    "current_tree() "
   ]
  },
  {
   "cell_type": "code",
   "execution_count": null,
   "metadata": {},
   "outputs": [],
   "source": [
    "traces = [ SubElement(root,\"trace\") for _ in flat_transactions ]"
   ]
  },
  {
   "cell_type": "code",
   "execution_count": null,
   "metadata": {},
   "outputs": [],
   "source": [
    "traces"
   ]
  },
  {
   "cell_type": "code",
   "execution_count": null,
   "metadata": {},
   "outputs": [],
   "source": [
    "for i, trace in enumerate(traces):\n",
    "    SubElement(trace,\"string\", key=\"concept:name\", value=f'trace_{i}' )\n",
    "    for item in flat_transactions[i]:\n",
    "        e = SubElement(trace,\"event\")\n",
    "        SubElement(e, \"date\", key=\"time:timestamp\", value= time_string(item[0]) )\n",
    "        SubElement(e,\"string\", key=\"concept:name\", value=item[1] )\n",
    "        SubElement(e,\"string\", key=\"org:group\", value=\"partecipant\" )\n",
    "        SubElement(e,\"string\", key=\"lifecycle:transition\", value=\"complete\" )"
   ]
  },
  {
   "cell_type": "code",
   "execution_count": null,
   "metadata": {},
   "outputs": [],
   "source": [
    "with open('test.xes', 'w') as f:\n",
    "    f.write(prettify(root))"
   ]
  },
  {
   "cell_type": "code",
   "execution_count": null,
   "metadata": {},
   "outputs": [],
   "source": []
  }
 ],
 "metadata": {
  "interpreter": {
   "hash": "31f2aee4e71d21fbe5cf8b01ff0e069b9275f58929596ceb00d14d90e3e16cd6"
  },
  "kernelspec": {
   "display_name": "Python 3 (ipykernel)",
   "language": "python",
   "name": "python3"
  },
  "language_info": {
   "codemirror_mode": {
    "name": "ipython",
    "version": 3
   },
   "file_extension": ".py",
   "mimetype": "text/x-python",
   "name": "python",
   "nbconvert_exporter": "python",
   "pygments_lexer": "ipython3",
   "version": "3.9.5"
  }
 },
 "nbformat": 4,
 "nbformat_minor": 4
}
