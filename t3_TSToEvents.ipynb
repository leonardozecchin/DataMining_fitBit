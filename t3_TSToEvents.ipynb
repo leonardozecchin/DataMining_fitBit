{
 "cells": [
  {
   "cell_type": "markdown",
   "metadata": {},
   "source": [
    "# Da TimeSeries a Eventi"
   ]
  },
  {
   "cell_type": "markdown",
   "metadata": {},
   "source": [
    "In questo file sono state implementate delle funzioni che permettono di passare da un dataframe basato su **timeseries** ad un dataframe contenente degli **eventi**.<br>\n",
    "Ho deciso di concentrare la mia analisi su tre file:\n",
    "- **calories.json**\n",
    "- **sleep.json**\n",
    "- **exercise.json.**<br>\n",
    "\n",
    "Ho preso questa decisione per vedere se ci sono correlazioni tra i dati di questi dataset."
   ]
  },
  {
   "cell_type": "code",
   "execution_count": null,
   "metadata": {},
   "outputs": [],
   "source": [
    "import nbimporter\n",
    "from t1_ETLBasics import calories_to_df, sleep_to_df\n",
    "from t1_ETLBasics import exercise_to_df\n",
    "import datetime\n",
    "import dateutil as du\n",
    "PATH = '../../pmdata/'"
   ]
  },
  {
   "cell_type": "markdown",
   "metadata": {},
   "source": [
    "## Calories\n",
    "Da timeseries passiamo ad eventi. \n",
    "- prima raggruppo per partecipante e ora e calcolo media, deviazione,standard e somma.\n"
   ]
  },
  {
   "cell_type": "code",
   "execution_count": null,
   "metadata": {},
   "outputs": [],
   "source": [
    "cal = calories_to_df(PATH,[1,5])"
   ]
  },
  {
   "cell_type": "code",
   "execution_count": null,
   "metadata": {},
   "outputs": [],
   "source": [
    "cal"
   ]
  },
  {
   "cell_type": "markdown",
   "metadata": {},
   "source": [
    "La seguente funzione prende in input il dataframe delle calorie e dopo aver raggruppato per **partecipante** e **ora** crea degli eventi."
   ]
  },
  {
   "cell_type": "code",
   "execution_count": null,
   "metadata": {},
   "outputs": [],
   "source": [
    "def calories_to_events(df):\n",
    "    \"\"\"funzione che trasforma il df delle calorie da \n",
    "        timeseries a eventi.Raggruppa per partecipante e ora e\n",
    "        calcola media, deviazione standard e somma delle calorie.\n",
    "        Crea degli eventi.\n",
    "\n",
    "        - parametro df: dataframe da mpdificare\n",
    "        - ritorna cal_agg: dataframe aggregato in cui \"\"\"\n",
    "    df['pid'] = [x[0] for x in list(df.index)]\n",
    "    df['ts'] = [x[1] for x in list(df.index)]\n",
    "    df['hour'] = df['ts'].apply(lambda x: x.strftime('%Y-%m-%d %H'))\n",
    "    cal_agg = df.groupby(['pid','hour']).agg({'calories': ['mean','std','sum']})\n",
    "    cal_agg['c_mean'] = cal_agg['calories']['mean']\n",
    "    cal_agg['c_std'] = cal_agg['calories']['std']\n",
    "    cal_agg['c_sum'] = cal_agg['calories']['sum']\n",
    "    cal_agg['ts'] = [x[1] for x in list(cal_agg.index)]\n",
    "    cal_agg = cal_agg.drop(['calories'] , axis=1)\n",
    "    cal_agg['date'] = cal_agg['ts'].apply(lambda x: du.parser.parse(x[0:-3]))\n",
    "    cal_agg['hour'] = cal_agg['ts'].apply(lambda x: int(x[-2:]))\n",
    "    cal_agg['eight_part_day'] = cal_agg['hour'].apply(lambda x: int(x/3))\n",
    "    cal_agg['quarter_day'] = cal_agg['hour'].apply(lambda x: int(x/6))\n",
    "    cal_agg['half_day'] = cal_agg['hour'].apply(lambda x: int(x/12))\n",
    "    cal_agg['week_day'] = cal_agg['date'].apply(lambda x: x.strftime('%A'))\n",
    "    cal_agg['weekend'] = cal_agg['week_day'].apply(lambda x: True if x in ['Saturday','Sunday'] else False)\n",
    "    cal_agg['id'] = [x[0] for x in list(cal_agg.index)]\n",
    "    cal_agg = cal_agg.drop(['date'], axis=1)\n",
    "    return cal_agg"
   ]
  },
  {
   "cell_type": "code",
   "execution_count": null,
   "metadata": {},
   "outputs": [],
   "source": [
    "cal_events = calories_to_events(cal)"
   ]
  },
  {
   "cell_type": "code",
   "execution_count": null,
   "metadata": {},
   "outputs": [],
   "source": [
    "#cal_events.to_csv('./dataframe/cal_events.csv')\n",
    "cal_events"
   ]
  },
  {
   "cell_type": "markdown",
   "metadata": {},
   "source": [
    "## Sleep"
   ]
  },
  {
   "cell_type": "code",
   "execution_count": null,
   "metadata": {},
   "outputs": [],
   "source": [
    "sl = sleep_to_df(PATH,[1])"
   ]
  },
  {
   "cell_type": "code",
   "execution_count": null,
   "metadata": {},
   "outputs": [],
   "source": [
    "sl"
   ]
  },
  {
   "cell_type": "markdown",
   "metadata": {},
   "source": [
    "La seguente funzione prende in input il dataframe del sleep.json e crea degli eventi."
   ]
  },
  {
   "cell_type": "code",
   "execution_count": null,
   "metadata": {},
   "outputs": [],
   "source": [
    "def sleep_to_events(df):\n",
    "    \"\"\" Funzione che crea delle etichette dal dataframe sleep.\n",
    "    \n",
    "    -parametro df: dataframe sleep\n",
    "    -ritorna df: dataframe aggiornato con gli eventi in aggiunta.\"\"\"\n",
    "    df['pid'] = [x[0] for x in list(df.index)]\n",
    "    df['startT'] = [str(x)[0:13] for x in df['startT']]\n",
    "    df['startT'] = [datetime.datetime.strptime(x, '%Y-%m-%d %H') for x in df['startT']]\n",
    "    #df['ts'] = [datetime.datetime.strptime(str(x), '%Y-%m-%d %H') for x in df['startT']]\n",
    "    df['ts'] = df['startT'].apply(lambda x: x.strftime('%Y-%m-%d %H'))\n",
    "    df['day'] = [datetime.datetime.strptime(str(x[1]), '%Y-%m-%d') for x in list(df.index)]\n",
    "    df['startSleepH'] = [str(x)[11:13] for x in df['startT']]\n",
    "    df['endSleepH'] = [str(x)[11:13] for x in df['endT']]\n",
    "    df['durationH'] = [round((float(x)/(1000*60*60))%24) for x in df['duration']]\n",
    "    df['week_day'] = df['day'].apply(lambda x: x.strftime('%A'))\n",
    "    df['weekend']= df['week_day'].apply(lambda x: True if x in ['Saturday', 'Sunday'] else False)\n",
    "    df = df.drop(['startT','endT','type','timeInBed','shortData','data','levelDeep','levelWake','levelLight','levelRem'],axis = 1)\n",
    "    return df\n",
    "    "
   ]
  },
  {
   "cell_type": "code",
   "execution_count": null,
   "metadata": {},
   "outputs": [],
   "source": [
    "sleep = sleep_to_events(sl)"
   ]
  },
  {
   "cell_type": "code",
   "execution_count": null,
   "metadata": {},
   "outputs": [],
   "source": [
    "#sleep.to_csv('./dataframe/sleep.csv')\n",
    "sleep"
   ]
  },
  {
   "cell_type": "markdown",
   "metadata": {},
   "source": [
    "## Exercise"
   ]
  },
  {
   "cell_type": "code",
   "execution_count": null,
   "metadata": {},
   "outputs": [],
   "source": [
    "ex = exercise_to_df(PATH,[1])"
   ]
  },
  {
   "cell_type": "code",
   "execution_count": null,
   "metadata": {},
   "outputs": [],
   "source": [
    "ex"
   ]
  },
  {
   "cell_type": "markdown",
   "metadata": {},
   "source": [
    "Funzione che crea etichette per evidenziare degli eventi per il dataframe exercise."
   ]
  },
  {
   "cell_type": "code",
   "execution_count": null,
   "metadata": {},
   "outputs": [],
   "source": [
    "def exercise_to_events(df):\n",
    "    \"\"\"Funzione che prende un dataframe e lo trasforma andando \n",
    "    a creare delle etichette per creare degli eventi.\n",
    "    \n",
    "    parametro df: dataframe di exercise.json\n",
    "    ritorna: dataframe in cui ho gli eventi e i valori\"\"\"\n",
    "    df['pid'] = [x[0] for x in list(df.index)]\n",
    "    df['date'] = [x[1].strftime(\"%Y-%m-%d\") for x in list(df.index)]\n",
    "    df['startHour'] = [x[1].strftime(\"%H\") for x in list(df.index)]\n",
    "    df['ts'] = [x[1] for x in list(df.index)]\n",
    "    df['extendHour'] = df['ts'].apply(lambda dt: datetime.datetime(dt.year, dt.month, dt.day, dt.hour,15*(dt.minute // 15)))\n",
    "    df['ts'] = df['ts'].apply(lambda x: x.strftime('%Y-%m-%d %H'))\n",
    "    df['durationMin'] = df['duration'].apply(lambda x: round(float(x)/(1000*60))%60)\n",
    "    arr = []\n",
    "    for e in df['startHour']:\n",
    "        if(int(e) >= 5 and int(e)<= 12):\n",
    "            arr.append('Mattina')\n",
    "        elif(int(e) >12 and int(e)<= 17):\n",
    "            arr.append('Pomeriggio')\n",
    "        elif(int(e) >17 and int(e)<= 22):\n",
    "            arr.append('Sera')\n",
    "        else:\n",
    "            arr.append('Notte')\n",
    "    df['part_day'] = arr\n",
    "    #df = df.drop(['ts'],axis=1)\n",
    "    return df[['pid','date','startHour','extendHour','steps','durationMin','activityName','calories','ts','part_day']]"
   ]
  },
  {
   "cell_type": "code",
   "execution_count": null,
   "metadata": {},
   "outputs": [],
   "source": [
    "exercise = exercise_to_events(ex)"
   ]
  },
  {
   "cell_type": "code",
   "execution_count": null,
   "metadata": {},
   "outputs": [],
   "source": [
    "#exercise.to_csv('./dataframe/exercise_events.csv')\n",
    "exercise"
   ]
  },
  {
   "cell_type": "code",
   "execution_count": null,
   "metadata": {},
   "outputs": [],
   "source": []
  }
 ],
 "metadata": {
  "interpreter": {
   "hash": "31f2aee4e71d21fbe5cf8b01ff0e069b9275f58929596ceb00d14d90e3e16cd6"
  },
  "kernelspec": {
   "display_name": "Python 3 (ipykernel)",
   "language": "python",
   "name": "python3"
  },
  "language_info": {
   "codemirror_mode": {
    "name": "ipython",
    "version": 3
   },
   "file_extension": ".py",
   "mimetype": "text/x-python",
   "name": "python",
   "nbconvert_exporter": "python",
   "pygments_lexer": "ipython3",
   "version": "3.9.5"
  }
 },
 "nbformat": 4,
 "nbformat_minor": 4
}
