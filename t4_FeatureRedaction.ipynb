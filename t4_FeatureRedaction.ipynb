{
 "cells": [
  {
   "cell_type": "markdown",
   "metadata": {},
   "source": [
    "# Feature Redaction"
   ]
  },
  {
   "cell_type": "markdown",
   "metadata": {},
   "source": [
    "In questo file andiamo a ripulire i dataframe creati dal task successivo applicando una **riduzione delle feature**.<br>\n",
    "Il metodo utilizzato maggiormente è il **KMeans**."
   ]
  },
  {
   "cell_type": "code",
   "execution_count": null,
   "metadata": {},
   "outputs": [],
   "source": [
    "import nbimporter\n",
    "from t1_ETLBasics import calories_to_df,sleep_to_df,exercise_to_df\n",
    "from t3_TSToEvents import calories_to_events, sleep_to_events,exercise_to_events\n",
    "import dateutil as du\n",
    "import pandas as pd\n",
    "from sklearn.cluster import KMeans\n",
    "import numpy as np\n",
    "import matplotlib.pyplot as plt\n",
    "from scipy.spatial import distance\n",
    "PATH = '../../pmdata/'"
   ]
  },
  {
   "cell_type": "markdown",
   "metadata": {},
   "source": [
    "## Calories"
   ]
  },
  {
   "cell_type": "code",
   "execution_count": null,
   "metadata": {},
   "outputs": [],
   "source": [
    "cal = calories_to_events(calories_to_df(PATH,[1]))"
   ]
  },
  {
   "cell_type": "code",
   "execution_count": null,
   "metadata": {},
   "outputs": [],
   "source": [
    "cal"
   ]
  },
  {
   "cell_type": "code",
   "execution_count": null,
   "metadata": {},
   "outputs": [],
   "source": [
    "def calories_kmeans(df, n_clusters=2):\n",
    "    \"\"\"Funzione che applica il kmeans al df delle calorie in cui riduco ad una etichetta la media,\n",
    "    la deviazione standard e la somma delle calorie. \n",
    "\n",
    "    Parametri:\n",
    "    - df: dataframe delle calorie\n",
    "    - n_cluster: numero di cluster per applicare Kmeans\n",
    "\n",
    "    Return:\n",
    "    - df: dataframe delle calorie modificato con aggiunta del cluster\"\"\"\n",
    "    mean_std_sum_list = [(x[0], x[1],x[2]) for x in  [list(x) for x in list(df.to_numpy())]]\n",
    "    mean_std_sum_set = set(mean_std_sum_list)\n",
    "    mean_list = [x[0] for x in mean_std_sum_list]\n",
    "    min_mean, max_mean = min(mean_list), max(mean_list)\n",
    "    std_list = [x[1] for x in mean_std_sum_list]\n",
    "    min_std, max_std = min(std_list), max(std_list)\n",
    "    sum_list = [x[2] for x in mean_std_sum_list]\n",
    "    min_sum, max_sum = min(sum_list), max(sum_list)\n",
    "    mean_range = max_mean - min_mean\n",
    "    std_range = max_std - min_std\n",
    "    sum_range = max_sum - min_sum\n",
    "    norm_mean_std_sum_list = [((x[0] - min_mean)/mean_range, (x[1] - min_std)/std_range, (x[2] - min_sum)/sum_range) for x in  mean_std_sum_list ]\n",
    "    points = np.array(norm_mean_std_sum_list)\n",
    "    kmeans = KMeans(n_clusters=n_clusters, random_state=0).fit(points)\n",
    "    cluster_indexes = kmeans.predict(points)\n",
    "    df['cluster_index'] = cluster_indexes\n",
    "    cluster_centers =  kmeans.cluster_centers_\n",
    "    point_centers = [ cluster_centers[i] for i in cluster_indexes ]\n",
    "    df['cluster_center'] = point_centers\n",
    "    df = df.drop(['c_mean','c_std','c_sum'], axis=1)\n",
    "    return df"
   ]
  },
  {
   "cell_type": "code",
   "execution_count": null,
   "metadata": {},
   "outputs": [],
   "source": [
    "cal_kmeans = calories_kmeans(cal,5)"
   ]
  },
  {
   "cell_type": "code",
   "execution_count": null,
   "metadata": {},
   "outputs": [],
   "source": [
    "#cal_kmeans.to_csv('./dataframe/cal_kmeans.csv')\n",
    "cal_kmeans"
   ]
  },
  {
   "cell_type": "markdown",
   "metadata": {},
   "source": [
    "## Sleep"
   ]
  },
  {
   "cell_type": "code",
   "execution_count": null,
   "metadata": {},
   "outputs": [],
   "source": [
    "sleep = sleep_to_events(sleep_to_df(PATH,[1,2,3]))"
   ]
  },
  {
   "cell_type": "code",
   "execution_count": null,
   "metadata": {},
   "outputs": [],
   "source": [
    "sleep"
   ]
  },
  {
   "cell_type": "code",
   "execution_count": null,
   "metadata": {},
   "outputs": [],
   "source": [
    "def print_kmeans(points,cluster_indexes):\n",
    "    plt.scatter(\n",
    "     [i[0] for i in points], \n",
    "     [i[1] for i in points],\n",
    "     [i[2] for i in points],\n",
    "    c =  list(cluster_indexes)) \n",
    "    plt.show()"
   ]
  },
  {
   "cell_type": "code",
   "execution_count": null,
   "metadata": {},
   "outputs": [],
   "source": [
    "def sleep_kmeans(df,n_cluster=2):\n",
    "    \"\"\"funzione che applica Kmeans al dataFrame per il sonno (sleep)\n",
    "\n",
    "        Paramentri:\n",
    "        - df: dataFrame sleep\n",
    "        - n_cluster: numero di cluster\n",
    "        \n",
    "        Return:\n",
    "        - ritorna il df aggiornato dopo che ho applicato Kmeans e ridotto le feature\"\"\"\n",
    "    minutes_list = [(x[1],x[2],x[3]) for x in [list(x) for x in list(df.to_numpy())]]\n",
    "    asleep_list = [x[0] for x in minutes_list]\n",
    "    min_asleep, max_asleep = min(asleep_list), max(asleep_list)\n",
    "    awake_list = [x[1] for x in minutes_list]\n",
    "    min_awake, max_awake = min(awake_list), max(awake_list)\n",
    "    afterWU_list = [x[2] for x in minutes_list]\n",
    "    min_afterWU, max_afterWU = min(afterWU_list), max(afterWU_list)\n",
    "    afterWU_range = max_afterWU - min_afterWU\n",
    "    asleep_range = max_asleep - min_asleep\n",
    "    awake_range = max_awake - min_awake\n",
    "    norm_minutes_list = [((x[0] - min_asleep)/asleep_range, (x[1] - min_awake)/awake_range, (x[2]- min_afterWU)/afterWU_range) for x in  minutes_list]\n",
    "    points = np.array(norm_minutes_list)\n",
    "    kmeans = KMeans(n_clusters=n_cluster, random_state=0).fit(points)\n",
    "    cluster_indexes = kmeans.predict(points)\n",
    "    df['cluster_index'] = cluster_indexes\n",
    "    cluster_centers =  kmeans.cluster_centers_\n",
    "    point_centers = [ cluster_centers[i] for i in cluster_indexes ]\n",
    "    df['cluster_center'] = point_centers\n",
    "    arr = []\n",
    "    for e in df['efficiency']:\n",
    "        if(e >= 96 and e<= 100):\n",
    "            arr.append('Alta')\n",
    "        elif(e >= 91 and e<= 95):\n",
    "            arr.append('Media-Alta')\n",
    "        elif(e >= 86 and e<= 90):\n",
    "            arr.append('Media-Bassa')\n",
    "        else:\n",
    "            arr.append('Bassa')\n",
    "    df['eff'] = arr\n",
    "    #print_kmeans(points,cluster_indexes)\n",
    "    df = df.drop(['minutesAsleep','minutesAwake','minutesAfterWakeup','efficiency'], axis=1)\n",
    "    df['efficiency'] = df['eff']\n",
    "    df = df.drop(['eff'], axis=1)\n",
    "    return df\n"
   ]
  },
  {
   "cell_type": "code",
   "execution_count": null,
   "metadata": {},
   "outputs": [],
   "source": [
    "sl_kmean = sleep_kmeans(sleep,5)"
   ]
  },
  {
   "cell_type": "code",
   "execution_count": null,
   "metadata": {},
   "outputs": [],
   "source": [
    "#sl_kmean.to_csv('./dataframe/sleep_kmeans.csv')\n",
    "sl_kmean"
   ]
  },
  {
   "cell_type": "markdown",
   "metadata": {},
   "source": [
    "## Exercise"
   ]
  },
  {
   "cell_type": "code",
   "execution_count": null,
   "metadata": {},
   "outputs": [],
   "source": [
    "ex = exercise_to_events(exercise_to_df(PATH,[2]))"
   ]
  },
  {
   "cell_type": "code",
   "execution_count": null,
   "metadata": {},
   "outputs": [],
   "source": [
    "#ex.to_csv('./dataframe/exercise.csv')\n",
    "ex"
   ]
  },
  {
   "cell_type": "code",
   "execution_count": null,
   "metadata": {},
   "outputs": [],
   "source": [
    "def exercise_kmeans(df,n_cluster=2):\n",
    "    \"\"\"funzione che applica Kmeans al dataFrame per gli esercizi (exercise)\n",
    "\n",
    "        Paramentri:\n",
    "        - df: dataFrame exercise\n",
    "        - n_cluster: numero di cluster\n",
    "        \n",
    "        Return:\n",
    "        - ritorna il df aggiornato dopo che ho applicato Kmeans e ridotto le feature\"\"\"\n",
    "    steps_durations_calories_list = [(x[4],x[5],x[7]) for x in [list(x) for x in list(df.to_numpy())]]\n",
    "    steps_list = [x[0] for x in steps_durations_calories_list]\n",
    "    min_steps, max_steps = min(steps_list), max(steps_list)\n",
    "    durations_list = [x[1] for x in steps_durations_calories_list]\n",
    "    min_duration, max_duration = min(durations_list), max(durations_list)\n",
    "    calories_list = [x[2] for x in steps_durations_calories_list]\n",
    "    min_calories, max_calories = min(calories_list), max(calories_list)\n",
    "    calories_range = max_calories - min_calories\n",
    "    stepes_range = max_steps - min_steps\n",
    "    durations_range = max_duration - min_duration\n",
    "    norm_steps_durations_calories_list = [((x[0] - min_steps)/stepes_range, (x[1] - min_duration)/durations_range, (x[2]- min_calories)/calories_range) for x in  steps_durations_calories_list]\n",
    "    points = np.array(norm_steps_durations_calories_list)\n",
    "    kmeans = KMeans(n_clusters=n_cluster, random_state=0).fit(points)\n",
    "    cluster_indexes = kmeans.predict(points)\n",
    "    df['cluster_index'] = cluster_indexes\n",
    "    cluster_centers =  kmeans.cluster_centers_\n",
    "    point_centers = [ cluster_centers[i] for i in cluster_indexes ]\n",
    "    df['cluster_center'] = point_centers\n",
    "    #print_kmeans(points,cluster_indexes)\n",
    "    df = df.drop(['steps','durationMin','calories','extendHour','startHour'], axis=1)\n",
    "    return df"
   ]
  },
  {
   "cell_type": "code",
   "execution_count": null,
   "metadata": {},
   "outputs": [],
   "source": [
    "ex_kmeans = exercise_kmeans(ex,5)"
   ]
  },
  {
   "cell_type": "code",
   "execution_count": null,
   "metadata": {},
   "outputs": [],
   "source": [
    "#ex_kmeans.to_csv('./dataframe/exercise_kmeans.csv')\n",
    "ex_kmeans"
   ]
  },
  {
   "cell_type": "code",
   "execution_count": null,
   "metadata": {},
   "outputs": [],
   "source": []
  }
 ],
 "metadata": {
  "interpreter": {
   "hash": "31f2aee4e71d21fbe5cf8b01ff0e069b9275f58929596ceb00d14d90e3e16cd6"
  },
  "kernelspec": {
   "display_name": "Python 3 (ipykernel)",
   "language": "python",
   "name": "python3"
  },
  "language_info": {
   "codemirror_mode": {
    "name": "ipython",
    "version": 3
   },
   "file_extension": ".py",
   "mimetype": "text/x-python",
   "name": "python",
   "nbconvert_exporter": "python",
   "pygments_lexer": "ipython3",
   "version": "3.9.5"
  }
 },
 "nbformat": 4,
 "nbformat_minor": 4
}
