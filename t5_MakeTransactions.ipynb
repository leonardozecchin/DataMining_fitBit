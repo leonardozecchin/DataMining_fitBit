{
 "cells": [
  {
   "cell_type": "markdown",
   "metadata": {},
   "source": [
    "# Make Transaction"
   ]
  },
  {
   "cell_type": "markdown",
   "metadata": {},
   "source": [
    "Implementazione di funzioni che dal dataframe contenente gli eventi e dopo essere stata applicata la feature redaction crea le **transazioni** per ogni partecipante."
   ]
  },
  {
   "cell_type": "code",
   "execution_count": null,
   "metadata": {},
   "outputs": [],
   "source": [
    "import nbimporter\n",
    "from t1_ETLBasics import calories_to_df,sleep_to_df,exercise_to_df\n",
    "from t3_TSToEvents import calories_to_events, sleep_to_events,exercise_to_events\n",
    "from t4_FeatureRedaction import calories_kmeans, sleep_kmeans, exercise_kmeans\n",
    "import dateutil as du\n",
    "from datetime import datetime\n",
    "import pandas as pd\n",
    "from sklearn.cluster import KMeans\n",
    "import numpy as np\n",
    "import matplotlib.pyplot as plt\n",
    "from scipy.spatial import distance\n",
    "from operator import itemgetter\n",
    "PATH = '../../pmdata/'"
   ]
  },
  {
   "cell_type": "markdown",
   "metadata": {},
   "source": [
    "## Calories"
   ]
  },
  {
   "cell_type": "code",
   "execution_count": null,
   "metadata": {},
   "outputs": [],
   "source": [
    "cal = calories_kmeans(calories_to_events(calories_to_df(PATH,[1,2])))"
   ]
  },
  {
   "cell_type": "code",
   "execution_count": null,
   "metadata": {},
   "outputs": [],
   "source": [
    "calories = cal.copy()"
   ]
  },
  {
   "cell_type": "code",
   "execution_count": null,
   "metadata": {},
   "outputs": [],
   "source": [
    "calories"
   ]
  },
  {
   "cell_type": "code",
   "execution_count": null,
   "metadata": {},
   "outputs": [],
   "source": [
    "def get_cal_transaction(df):\n",
    "    \"\"\"Funzione che crea le transazioni delle calorie per ogni partecipante\n",
    "    \n",
    "    Parametri:\n",
    "    - df: dataframe da cui creare le transazioni\n",
    "    \n",
    "    Ritorna:\n",
    "    - df_trans: lista contenente le transazioni per ogni partecipante\"\"\"\n",
    "    df['label'] = df.apply(lambda x:   f'calories cluster: {x.cluster_index.values[0]}, weekend: {x.weekend.values[0]}', axis = 1)\n",
    "    df['t_item'] = df.apply(lambda x: [datetime.strptime(x.ts.values[0], '%Y-%m-%d %H'), x.label.values[0]], axis=1)\n",
    "    df['vt']  = [du.parser.parse(x[1]).strftime('%Y-%m-%d') for x in list(df.index)]\n",
    "    df_trans =  list(df[['id','vt','t_item','ts']].groupby(['id'])['t_item'].apply(list))\n",
    "    #return df_trans[0]\n",
    "    return df_trans"
   ]
  },
  {
   "cell_type": "code",
   "execution_count": null,
   "metadata": {},
   "outputs": [],
   "source": [
    "cal_transaction = get_cal_transaction(calories)"
   ]
  },
  {
   "cell_type": "code",
   "execution_count": null,
   "metadata": {},
   "outputs": [],
   "source": [
    "cal_transaction"
   ]
  },
  {
   "cell_type": "markdown",
   "metadata": {},
   "source": [
    "## Sleep"
   ]
  },
  {
   "cell_type": "code",
   "execution_count": null,
   "metadata": {},
   "outputs": [],
   "source": [
    "sl = sleep_kmeans(sleep_to_events(sleep_to_df(PATH,[1])))"
   ]
  },
  {
   "cell_type": "code",
   "execution_count": null,
   "metadata": {},
   "outputs": [],
   "source": [
    "sleep = sl.copy()"
   ]
  },
  {
   "cell_type": "code",
   "execution_count": null,
   "metadata": {},
   "outputs": [],
   "source": [
    "sleep"
   ]
  },
  {
   "cell_type": "code",
   "execution_count": null,
   "metadata": {},
   "outputs": [],
   "source": [
    "def get_sleep_transaction(df):\n",
    "    \"\"\"Funzione che crea le transazioni per sleep per ogni partecipante\n",
    "    \n",
    "    Parametri:\n",
    "    - df: dataframe da cui creare le transazioni\n",
    "    \n",
    "    Ritorna:\n",
    "    - df_agg: lista contenente le transazioni per ogni partecipante\"\"\"\n",
    "    df['label'] = df.apply(lambda x:   f'Sleep: weekend: {x.weekend}, efficiency: {x.efficiency}, durationSleep: {x.durationH}', axis = 1)\n",
    "    df['t_item'] = df.apply(lambda x: [datetime.strptime(x.ts, '%Y-%m-%d %H'), x.label], axis=1)\n",
    "    df['vt']  = [du.parser.parse(x[1]).strftime('%Y-%m-%d') for x in list(df.index)]\n",
    "    #df_agg= list(df[['pid','vt','t_item','ts']].groupby(['pid','vt'])['t_item'].apply(list))\n",
    "    df_agg= list(df[['pid','vt','t_item','ts']].groupby(['pid'])['t_item'].apply(list))\n",
    "    #return [ item for elem in df_agg for item in elem]\n",
    "    return df_agg\n",
    "    \n",
    "    "
   ]
  },
  {
   "cell_type": "code",
   "execution_count": null,
   "metadata": {},
   "outputs": [],
   "source": [
    "sleep_transaction = get_sleep_transaction(sleep)"
   ]
  },
  {
   "cell_type": "code",
   "execution_count": null,
   "metadata": {},
   "outputs": [],
   "source": [
    "sleep_transaction"
   ]
  },
  {
   "cell_type": "markdown",
   "metadata": {},
   "source": [
    "## Exercise"
   ]
  },
  {
   "cell_type": "code",
   "execution_count": null,
   "metadata": {},
   "outputs": [],
   "source": [
    "ex = exercise_kmeans(exercise_to_events(exercise_to_df(PATH,[1,2])),4)"
   ]
  },
  {
   "cell_type": "code",
   "execution_count": null,
   "metadata": {},
   "outputs": [],
   "source": [
    "exercise = ex.copy()"
   ]
  },
  {
   "cell_type": "code",
   "execution_count": null,
   "metadata": {},
   "outputs": [],
   "source": [
    "exercise"
   ]
  },
  {
   "cell_type": "code",
   "execution_count": null,
   "metadata": {},
   "outputs": [],
   "source": [
    "def get_exercise_transaction(df):\n",
    "    \"\"\"Funzione che crea le transazioni degli exercise per ogni partecipante\n",
    "    \n",
    "    Parametri:\n",
    "    - df: dataframe da cui creare le transazioni\n",
    "    \n",
    "    Ritorna:\n",
    "    - df_agg: lista contenente le transazioni per ogni partecipante\"\"\"\n",
    "    df['label'] = df.apply(lambda x:   f'exercise cluster: {x.cluster_index}, part day: {x.part_day}, Activity: {x.activityName}', axis = 1)\n",
    "    df['t_item'] = df.apply(lambda x: [datetime.strptime(x.ts, '%Y-%m-%d %H'), x.label], axis=1)\n",
    "    df['vt']  = [x[1].strftime('%Y-%m-%d') for x in list(df.index)]\n",
    "    #df_agg = list(df[['pid','vt','t_item']].groupby(['pid','vt'])['t_item'].apply(list))\n",
    "    df_agg = list(df[['pid','vt','t_item']].groupby(['pid'])['t_item'].apply(list))\n",
    "    return df_agg\n",
    "    #return [ item for elem in df_agg for item in elem]\n",
    "    "
   ]
  },
  {
   "cell_type": "code",
   "execution_count": null,
   "metadata": {},
   "outputs": [],
   "source": [
    "exercise_transaction = get_exercise_transaction(exercise)"
   ]
  },
  {
   "cell_type": "code",
   "execution_count": null,
   "metadata": {},
   "outputs": [],
   "source": [
    "exercise_transaction"
   ]
  },
  {
   "cell_type": "code",
   "execution_count": null,
   "metadata": {},
   "outputs": [],
   "source": [
    "def get_master(t1,t2,t3):\n",
    "    \"\"\"Funzione che unisce le transazioni dei file.\n",
    "    \n",
    "    Parametri:\n",
    "    - t1: transazioni calories\n",
    "    - t2: transazione sleep\n",
    "    - t3: transazioni exercise\n",
    "    \n",
    "    Ritorna:\n",
    "    - una lista contenente le transazioni insieme e ordinate per timestamp\"\"\"\n",
    "    t= t1+t2+t3\n",
    "    return sorted(t,key=itemgetter(0))\n",
    "    "
   ]
  },
  {
   "cell_type": "code",
   "execution_count": null,
   "metadata": {},
   "outputs": [],
   "source": [
    "def get_master_transaction(t1,t2,t3):\n",
    "    \"\"\"Funzione che genera la lista contenente le transazioni ordinate per ogni partecipante\n",
    "    \n",
    "    Parametri:\n",
    "    - t1: transazioni calories\n",
    "    - t2: transazione sleep\n",
    "    - t3: transazioni exercise\n",
    "    \n",
    "    Ritorna:\n",
    "    - t: lista che per ogni elemento ha la lista delle transazioni per il partecipante i-esimo\"\"\"\n",
    "    t = []\n",
    "    for i in range(len(t1)):\n",
    "        t.append(get_master(t1[i],t2[i],t3[i]))\n",
    "    return t"
   ]
  },
  {
   "cell_type": "code",
   "execution_count": null,
   "metadata": {},
   "outputs": [],
   "source": [
    "t = get_master_transaction(cal_transaction,sleep_transaction,exercise_transaction)"
   ]
  },
  {
   "cell_type": "code",
   "execution_count": null,
   "metadata": {},
   "outputs": [],
   "source": [
    "t"
   ]
  },
  {
   "cell_type": "code",
   "execution_count": null,
   "metadata": {
    "tags": []
   },
   "outputs": [],
   "source": []
  }
 ],
 "metadata": {
  "interpreter": {
   "hash": "31f2aee4e71d21fbe5cf8b01ff0e069b9275f58929596ceb00d14d90e3e16cd6"
  },
  "kernelspec": {
   "display_name": "Python 3 (ipykernel)",
   "language": "python",
   "name": "python3"
  },
  "language_info": {
   "codemirror_mode": {
    "name": "ipython",
    "version": 3
   },
   "file_extension": ".py",
   "mimetype": "text/x-python",
   "name": "python",
   "nbconvert_exporter": "python",
   "pygments_lexer": "ipython3",
   "version": "3.9.5"
  }
 },
 "nbformat": 4,
 "nbformat_minor": 4
}
